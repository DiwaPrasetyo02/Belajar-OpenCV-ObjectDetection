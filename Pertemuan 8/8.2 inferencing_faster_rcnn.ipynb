{
 "cells": [
  {
   "cell_type": "markdown",
   "metadata": {},
   "source": [
    "## 8.2 Inferencing Faster R-CNN\n",
    "- Inferencing faster R-CNN OpenCV DNN\n",
    "- Inferencing faster R-CNN ONNX Runtime"
   ]
  }
 ],
 "metadata": {
  "language_info": {
   "name": "python"
  }
 },
 "nbformat": 4,
 "nbformat_minor": 2
}
