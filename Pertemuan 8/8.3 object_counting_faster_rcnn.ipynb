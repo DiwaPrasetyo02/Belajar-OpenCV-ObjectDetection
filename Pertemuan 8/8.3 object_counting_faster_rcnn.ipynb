{
 "cells": [
  {
   "cell_type": "markdown",
   "metadata": {},
   "source": [
    "## 8.3 Object Counting Faster R-CNN\n",
    "\n",
    "- Object Counting Faster R-CNN OpenCV DNN\n",
    "- Object Counting Faster R-CNN Super Vision"
   ]
  }
 ],
 "metadata": {
  "language_info": {
   "name": "python"
  }
 },
 "nbformat": 4,
 "nbformat_minor": 2
}
